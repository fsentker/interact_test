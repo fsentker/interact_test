from ipywidgets import interact
import numpy as np

from bokeh.io import push_notebook, show, output_notebook
from bokeh.plotting import figure
output_notebook()

x = np.linspace(-20, 20, 2000)
y0 = np.sin(x)

p = figure(title="simple line example", plot_height=600, plot_width=900, y_range=(-6,6))
r = p.line(x, y0, color="#2222aa", line_width=2)

r1 = p.line(x, y0, color="#c6dbef", line_width=2)

def update(f="cos", fr=1, A=1, phi=0, f1="sin", fr1=1, A1=1, phi1=0):
    if   f == "sin": func = np.sin
    elif f == "cos": func = np.cos
    
    if   f1 == "sin": func1 = np.sin
    elif f1 == "cos": func1 = np.cos
        
        

    r.data_source.data['y'] = A * func(2*np.pi*fr * x + phi)
    r1.data_source.data['y'] = A1 * func1(2*np.pi*fr1*x + phi1)
    
    push_notebook()
    
show(p, notebook_handle=True)

interact(update, f=["sin", "cos"], fr=(0,50), A=(0, 20, 0.1), phi=(0, 20, 0.1), f1=["sin", "cos"], fr1=(0,50), A1=(0, 20, 0.1), phi1=(0, 20, 0.1))
